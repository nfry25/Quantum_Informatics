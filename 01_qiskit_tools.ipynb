{
 "cells": [
  {
   "cell_type": "markdown",
   "metadata": {
    "id": "FGJjOtBGqFsy"
   },
   "source": [
    "\n",
    "**Quantum Computing and Informatics**\n",
    "> **Teacher Assistent: Sthefanie Passo**\n",
    "\n",
    "> **E-mail: sthefanie.passo@utsa.edu**\n",
    "\n",
    "# Install Qiskit and Setup Jupyter Notebook\n",
    "\n",
    "### How to install Jupyter in your local computer\n",
    "\n",
    "First install Anaconda Python Distribution at [www.anaconda.com/download](https://www.anaconda.com/download)\n",
    "\n",
    "### Install Qiskit\n",
    "\n",
    "Once the installation is complete, launch the “**Anaconda Prompt**”\n",
    "\n",
    "In the anaconda prompt, type “**pip install qiskit**”\n",
    "![link text](https://miro.medium.com/v2/resize:fit:1200/1*slrJOCdCaWt2BJfHqdiXTQ.png)\n",
    "\n",
    "\n",
    "### Launch Jupyter Notebook\n",
    "Launch the Jupyter Notebook by just typing the command “**jupyter notebook**”\n",
    "\n",
    "Now create a new Python 3 Notebook by clicking New > Python 3\n",
    "\n",
    "\n"
   ]
  },
  {
   "cell_type": "markdown",
   "metadata": {
    "id": "e7JJUpOAz8Mh"
   },
   "source": [
    "### Colaboratory is another option\n",
    "\n",
    "Although  there is an online version of Jupyter Notebooks that allows for collaborative and real-time edition of your notebooks [Google Colaboratory](https://colab.research.google.com/)!\n",
    "\n",
    "For this class we will be using the Google Colaboratory and Qiskit.\n",
    "\n",
    "![link text](https://miro.medium.com/v2/resize:fit:986/1*pimj8lXWwZnqLs2xVCV2Aw.png)"
   ]
  },
  {
   "cell_type": "markdown",
   "metadata": {
    "id": "R8EVx2Te1v0i"
   },
   "source": [
    "## Qiskit Sign Up\n",
    "\n",
    "Go to [https://quantum.ibm.com/](https://quantum.ibm.com/) and **create your account**\n",
    "\n",
    "Click on the user icon on the top right corner and\n",
    "select \"**My Account**\"\n",
    "\n",
    "Click the \"**Copy token**\" (blue button) to copy your API token to the clipboard\n",
    "\n",
    "Go back tou your Colab and import IBMQ from Qiskit by typing the below line in the Jupyter Notebook and hit “**Shift\"+Enter**”\n",
    "\n",
    "```\n",
    "!pip install qiskit\n",
    "\n",
    "import qiskit\n",
    "```\n",
    "\n",
    "![link text](https://quantum.ibm.com/_nuxt/img/platformDarkScreenshot.ac4ed2c.png)\n",
    "\n"
   ]
  },
  {
   "cell_type": "markdown",
   "metadata": {
    "id": "RSBjCuryz0BN"
   },
   "source": [
    "# Qiskit Libraries\n",
    "\n",
    "Before we start coding, we need to install qiskit"
   ]
  },
  {
   "cell_type": "code",
   "execution_count": 2,
   "metadata": {
    "id": "PlCx8NAUtzoJ"
   },
   "outputs": [
    {
     "name": "stdout",
     "output_type": "stream",
     "text": [
      "Defaulting to user installation because normal site-packages is not writeable\n",
      "Collecting qiskit\n",
      "  Downloading qiskit-2.0.2-cp39-abi3-macosx_11_0_arm64.whl (5.9 MB)\n",
      "\u001b[K     |████████████████████████████████| 5.9 MB 643 kB/s eta 0:00:01\n",
      "\u001b[?25hCollecting rustworkx>=0.15.0\n",
      "  Downloading rustworkx-0.16.0-cp39-abi3-macosx_11_0_arm64.whl (1.9 MB)\n",
      "\u001b[K     |████████████████████████████████| 1.9 MB 1.1 MB/s eta 0:00:01\n",
      "\u001b[?25hRequirement already satisfied: python-dateutil>=2.8.0 in /Users/nicolasfrey/Library/Python/3.9/lib/python/site-packages (from qiskit) (2.9.0.post0)\n",
      "Requirement already satisfied: numpy<3,>=1.17 in /Users/nicolasfrey/Library/Python/3.9/lib/python/site-packages (from qiskit) (2.0.2)\n",
      "Collecting stevedore>=3.0.0\n",
      "  Downloading stevedore-5.4.1-py3-none-any.whl (49 kB)\n",
      "\u001b[K     |████████████████████████████████| 49 kB 1.4 MB/s eta 0:00:01\n",
      "\u001b[?25hCollecting symengine<0.14,>=0.11\n",
      "  Downloading symengine-0.13.0-cp39-cp39-macosx_11_0_arm64.whl (22.7 MB)\n",
      "\u001b[K     |████████████████████████████████| 22.7 MB 3.4 MB/s eta 0:00:01\n",
      "\u001b[?25hCollecting dill>=0.3\n",
      "  Downloading dill-0.4.0-py3-none-any.whl (119 kB)\n",
      "\u001b[K     |████████████████████████████████| 119 kB 3.2 MB/s eta 0:00:01\n",
      "\u001b[?25hCollecting sympy>=1.3\n",
      "  Downloading sympy-1.14.0-py3-none-any.whl (6.3 MB)\n",
      "\u001b[K     |████████████████████████████████| 6.3 MB 4.6 MB/s eta 0:00:01\n",
      "\u001b[?25hRequirement already satisfied: typing-extensions in /Users/nicolasfrey/Library/Python/3.9/lib/python/site-packages (from qiskit) (4.13.2)\n",
      "Requirement already satisfied: scipy>=1.5 in /Users/nicolasfrey/Library/Python/3.9/lib/python/site-packages (from qiskit) (1.13.1)\n",
      "Requirement already satisfied: six>=1.5 in /Applications/Xcode.app/Contents/Developer/Library/Frameworks/Python3.framework/Versions/3.9/lib/python3.9/site-packages (from python-dateutil>=2.8.0->qiskit) (1.15.0)\n",
      "Collecting pbr>=2.0.0\n",
      "  Downloading pbr-6.1.1-py2.py3-none-any.whl (108 kB)\n",
      "\u001b[K     |████████████████████████████████| 108 kB 5.6 MB/s eta 0:00:01\n",
      "\u001b[?25hRequirement already satisfied: setuptools in /Applications/Xcode.app/Contents/Developer/Library/Frameworks/Python3.framework/Versions/3.9/lib/python3.9/site-packages (from pbr>=2.0.0->stevedore>=3.0.0->qiskit) (58.0.4)\n",
      "Collecting mpmath<1.4,>=1.1.0\n",
      "  Downloading mpmath-1.3.0-py3-none-any.whl (536 kB)\n",
      "\u001b[K     |████████████████████████████████| 536 kB 5.4 MB/s eta 0:00:01\n",
      "\u001b[?25hInstalling collected packages: pbr, mpmath, sympy, symengine, stevedore, rustworkx, dill, qiskit\n",
      "Successfully installed dill-0.4.0 mpmath-1.3.0 pbr-6.1.1 qiskit-2.0.2 rustworkx-0.16.0 stevedore-5.4.1 symengine-0.13.0 sympy-1.14.0\n",
      "\u001b[33mWARNING: You are using pip version 21.2.4; however, version 25.1.1 is available.\n",
      "You should consider upgrading via the '/Applications/Xcode.app/Contents/Developer/usr/bin/python3 -m pip install --upgrade pip' command.\u001b[0m\n"
     ]
    }
   ],
   "source": [
    "!pip3 install qiskit\n",
    "import qiskit"
   ]
  },
  {
   "cell_type": "markdown",
   "metadata": {
    "id": "yP3oBBst3mgF"
   },
   "source": [
    "After we need to import the libraries that are needed"
   ]
  },
  {
   "cell_type": "code",
   "execution_count": 7,
   "metadata": {
    "id": "c_RYHLKgt3a2"
   },
   "outputs": [
    {
     "name": "stdout",
     "output_type": "stream",
     "text": [
      "Defaulting to user installation because normal site-packages is not writeable\n",
      "Collecting qiskit_ibm_runtime\n",
      "  Downloading qiskit_ibm_runtime-0.40.0-py3-none-any.whl (3.2 MB)\n",
      "\u001b[K     |████████████████████████████████| 3.2 MB 1.6 MB/s eta 0:00:01\n",
      "\u001b[?25hRequirement already satisfied: qiskit>=1.4.1 in /Users/nicolasfrey/Library/Python/3.9/lib/python/site-packages (from qiskit_ibm_runtime) (2.0.2)\n",
      "Collecting requests>=2.19\n",
      "  Downloading requests-2.32.3-py3-none-any.whl (64 kB)\n",
      "\u001b[K     |████████████████████████████████| 64 kB 9.9 MB/s  eta 0:00:01\n",
      "\u001b[?25hCollecting pydantic>=2.5.0\n",
      "  Downloading pydantic-2.11.5-py3-none-any.whl (444 kB)\n",
      "\u001b[K     |████████████████████████████████| 444 kB 18.0 MB/s eta 0:00:01\n",
      "\u001b[?25hCollecting requests-ntlm>=1.1.0\n",
      "  Downloading requests_ntlm-1.3.0-py3-none-any.whl (6.6 kB)\n",
      "Collecting ibm-platform-services>=0.22.6\n",
      "  Downloading ibm_platform_services-0.66.1-py3-none-any.whl (363 kB)\n",
      "\u001b[K     |████████████████████████████████| 363 kB 15.1 MB/s eta 0:00:01\n",
      "\u001b[?25hRequirement already satisfied: packaging in /Users/nicolasfrey/Library/Python/3.9/lib/python/site-packages (from qiskit_ibm_runtime) (25.0)\n",
      "Requirement already satisfied: numpy>=1.13 in /Users/nicolasfrey/Library/Python/3.9/lib/python/site-packages (from qiskit_ibm_runtime) (2.0.2)\n",
      "Requirement already satisfied: python-dateutil>=2.8.0 in /Users/nicolasfrey/Library/Python/3.9/lib/python/site-packages (from qiskit_ibm_runtime) (2.9.0.post0)\n",
      "Collecting urllib3>=1.21.1\n",
      "  Downloading urllib3-2.4.0-py3-none-any.whl (128 kB)\n",
      "\u001b[K     |████████████████████████████████| 128 kB 15.8 MB/s eta 0:00:01\n",
      "\u001b[?25hCollecting ibm_cloud_sdk_core<4.0.0,>=3.24.1\n",
      "  Downloading ibm_cloud_sdk_core-3.24.1-py3-none-any.whl (75 kB)\n",
      "\u001b[K     |████████████████████████████████| 75 kB 8.5 MB/s  eta 0:00:01\n",
      "\u001b[?25hCollecting PyJWT<3.0.0,>=2.8.0\n",
      "  Downloading PyJWT-2.10.1-py3-none-any.whl (22 kB)\n",
      "Collecting annotated-types>=0.6.0\n",
      "  Downloading annotated_types-0.7.0-py3-none-any.whl (13 kB)\n",
      "Collecting pydantic-core==2.33.2\n",
      "  Downloading pydantic_core-2.33.2-cp39-cp39-macosx_11_0_arm64.whl (1.9 MB)\n",
      "\u001b[K     |████████████████████████████████| 1.9 MB 19.8 MB/s eta 0:00:01\n",
      "\u001b[?25hCollecting typing-inspection>=0.4.0\n",
      "  Downloading typing_inspection-0.4.1-py3-none-any.whl (14 kB)\n",
      "Requirement already satisfied: typing-extensions>=4.12.2 in /Users/nicolasfrey/Library/Python/3.9/lib/python/site-packages (from pydantic>=2.5.0->qiskit_ibm_runtime) (4.13.2)\n",
      "Requirement already satisfied: six>=1.5 in /Applications/Xcode.app/Contents/Developer/Library/Frameworks/Python3.framework/Versions/3.9/lib/python3.9/site-packages (from python-dateutil>=2.8.0->qiskit_ibm_runtime) (1.15.0)\n",
      "Requirement already satisfied: dill>=0.3 in /Users/nicolasfrey/Library/Python/3.9/lib/python/site-packages (from qiskit>=1.4.1->qiskit_ibm_runtime) (0.4.0)\n",
      "Requirement already satisfied: stevedore>=3.0.0 in /Users/nicolasfrey/Library/Python/3.9/lib/python/site-packages (from qiskit>=1.4.1->qiskit_ibm_runtime) (5.4.1)\n",
      "Requirement already satisfied: symengine<0.14,>=0.11 in /Users/nicolasfrey/Library/Python/3.9/lib/python/site-packages (from qiskit>=1.4.1->qiskit_ibm_runtime) (0.13.0)\n",
      "Requirement already satisfied: rustworkx>=0.15.0 in /Users/nicolasfrey/Library/Python/3.9/lib/python/site-packages (from qiskit>=1.4.1->qiskit_ibm_runtime) (0.16.0)\n",
      "Requirement already satisfied: sympy>=1.3 in /Users/nicolasfrey/Library/Python/3.9/lib/python/site-packages (from qiskit>=1.4.1->qiskit_ibm_runtime) (1.14.0)\n",
      "Requirement already satisfied: scipy>=1.5 in /Users/nicolasfrey/Library/Python/3.9/lib/python/site-packages (from qiskit>=1.4.1->qiskit_ibm_runtime) (1.13.1)\n",
      "Collecting idna<4,>=2.5\n",
      "  Downloading idna-3.10-py3-none-any.whl (70 kB)\n",
      "\u001b[K     |████████████████████████████████| 70 kB 12.2 MB/s eta 0:00:01\n",
      "\u001b[?25hCollecting certifi>=2017.4.17\n",
      "  Downloading certifi-2025.4.26-py3-none-any.whl (159 kB)\n",
      "\u001b[K     |████████████████████████████████| 159 kB 16.5 MB/s eta 0:00:01\n",
      "\u001b[?25hCollecting charset-normalizer<4,>=2\n",
      "  Downloading charset_normalizer-3.4.2-cp39-cp39-macosx_10_9_universal2.whl (201 kB)\n",
      "\u001b[K     |████████████████████████████████| 201 kB 16.9 MB/s eta 0:00:01\n",
      "\u001b[?25hCollecting cryptography>=1.3\n",
      "  Downloading cryptography-45.0.3-cp37-abi3-macosx_10_9_universal2.whl (7.0 MB)\n",
      "\u001b[K     |████████████████████████████████| 7.0 MB 15.5 MB/s eta 0:00:01\n",
      "\u001b[?25hCollecting pyspnego>=0.4.0\n",
      "  Downloading pyspnego-0.11.2-py3-none-any.whl (130 kB)\n",
      "\u001b[K     |████████████████████████████████| 130 kB 12.5 MB/s eta 0:00:01\n",
      "\u001b[?25hCollecting cffi>=1.14\n",
      "  Downloading cffi-1.17.1-cp39-cp39-macosx_11_0_arm64.whl (178 kB)\n",
      "\u001b[K     |████████████████████████████████| 178 kB 13.7 MB/s eta 0:00:01\n",
      "\u001b[?25hCollecting pycparser\n",
      "  Downloading pycparser-2.22-py3-none-any.whl (117 kB)\n",
      "\u001b[K     |████████████████████████████████| 117 kB 16.6 MB/s eta 0:00:01\n",
      "\u001b[?25hRequirement already satisfied: pbr>=2.0.0 in /Users/nicolasfrey/Library/Python/3.9/lib/python/site-packages (from stevedore>=3.0.0->qiskit>=1.4.1->qiskit_ibm_runtime) (6.1.1)\n",
      "Requirement already satisfied: setuptools in /Applications/Xcode.app/Contents/Developer/Library/Frameworks/Python3.framework/Versions/3.9/lib/python3.9/site-packages (from pbr>=2.0.0->stevedore>=3.0.0->qiskit>=1.4.1->qiskit_ibm_runtime) (58.0.4)\n",
      "Requirement already satisfied: mpmath<1.4,>=1.1.0 in /Users/nicolasfrey/Library/Python/3.9/lib/python/site-packages (from sympy>=1.3->qiskit>=1.4.1->qiskit_ibm_runtime) (1.3.0)\n",
      "Installing collected packages: pycparser, urllib3, idna, charset-normalizer, cffi, certifi, requests, PyJWT, cryptography, typing-inspection, pyspnego, pydantic-core, ibm-cloud-sdk-core, annotated-types, requests-ntlm, pydantic, ibm-platform-services, qiskit-ibm-runtime\n",
      "Successfully installed PyJWT-2.10.1 annotated-types-0.7.0 certifi-2025.4.26 cffi-1.17.1 charset-normalizer-3.4.2 cryptography-45.0.3 ibm-cloud-sdk-core-3.24.1 ibm-platform-services-0.66.1 idna-3.10 pycparser-2.22 pydantic-2.11.5 pydantic-core-2.33.2 pyspnego-0.11.2 qiskit-ibm-runtime-0.40.0 requests-2.32.3 requests-ntlm-1.3.0 typing-inspection-0.4.1 urllib3-2.4.0\n",
      "\u001b[33mWARNING: You are using pip version 21.2.4; however, version 25.1.1 is available.\n",
      "You should consider upgrading via the '/Applications/Xcode.app/Contents/Developer/usr/bin/python3 -m pip install --upgrade pip' command.\u001b[0m\n"
     ]
    }
   ],
   "source": [
    "\n",
    "!pip3 install qiskit_ibm_runtime"
   ]
  },
  {
   "cell_type": "markdown",
   "metadata": {
    "id": "2h9RW74D2x4I"
   },
   "source": [
    "You now have an IBM Q Experience's **API token, save** it to your computer by typing the bellow line and hit **Shift+Enter**"
   ]
  },
  {
   "cell_type": "code",
   "execution_count": 8,
   "metadata": {
    "id": "2tiS8-Y0t5Ir"
   },
   "outputs": [
    {
     "name": "stderr",
     "output_type": "stream",
     "text": [
      "/Users/nicolasfrey/Library/Python/3.9/lib/python/site-packages/urllib3/__init__.py:35: NotOpenSSLWarning: urllib3 v2 only supports OpenSSL 1.1.1+, currently the 'ssl' module is compiled with 'LibreSSL 2.8.3'. See: https://github.com/urllib3/urllib3/issues/3020\n",
      "  warnings.warn(\n"
     ]
    }
   ],
   "source": [
    "import qiskit \n",
    "from qiskit_ibm_runtime import QiskitRuntimeService"
   ]
  },
  {
   "cell_type": "code",
   "execution_count": 9,
   "metadata": {},
   "outputs": [
    {
     "name": "stderr",
     "output_type": "stream",
     "text": [
      "/var/folders/2g/s1kh40k9113cnb4rml7rqm680000gn/T/ipykernel_93545/2071925952.py:2: DeprecationWarning: The \"ibm_quantum\" channel option is deprecated and will be sunset on 1 July. After this date, \"ibm_cloud\", \"ibm_quantum_platform\", and \"local\" will be the only valid channels. For information on migrating to the new IBM Quantum Platform, review the migration guide https://quantum.cloud.ibm.com/docs/migration-guides/classic-iqp-to-cloud-iqp .\n",
      "  service = QiskitRuntimeService(channel='ibm_quantum', token=token)\n"
     ]
    }
   ],
   "source": [
    "token = \"79232e64fa632d6dc52dbcba74585a33ec8593fe06d654771e8e3805d1cfb4f029a8d2b4dc022194164e29c2c16746342a7abc849cac0e6d9b2a726ab4785731\"\n",
    "service = QiskitRuntimeService(channel='ibm_quantum', token=token)"
   ]
  },
  {
   "cell_type": "markdown",
   "metadata": {
    "id": "ZVkQ_xFm5WWV"
   },
   "source": [
    "# Quantum Backend\n",
    "\n",
    "To view the backends you have access to, you can either view a list on the Compute resources page, or you can use the **QiskitRuntimeService.backends()** method. This method returns a list of IBMBackend instances:\n",
    "\n"
   ]
  },
  {
   "cell_type": "code",
   "execution_count": 10,
   "metadata": {
    "id": "DvRf71DYt7TU"
   },
   "outputs": [],
   "source": [
    "all = service.backends()"
   ]
  },
  {
   "cell_type": "code",
   "execution_count": 11,
   "metadata": {
    "id": "HW0RIo5st7V3"
   },
   "outputs": [
    {
     "data": {
      "text/plain": [
       "[<IBMBackend('ibm_brisbane')>, <IBMBackend('ibm_sherbrooke')>]"
      ]
     },
     "execution_count": 11,
     "metadata": {},
     "output_type": "execute_result"
    }
   ],
   "source": [
    "all "
   ]
  },
  {
   "cell_type": "markdown",
   "metadata": {
    "id": "lpG4BMlr59Ig"
   },
   "source": [
    "The **QiskitRuntimeService.backend()** method (note that this is singular: backend) takes the name of the backend as the input parameter and returns an IBMBackend instance representing that particular backend:"
   ]
  },
  {
   "cell_type": "code",
   "execution_count": 12,
   "metadata": {
    "id": "BttKIwght9gH"
   },
   "outputs": [
    {
     "data": {
      "text/plain": [
       "<IBMBackend('ibm_brisbane')>"
      ]
     },
     "execution_count": 12,
     "metadata": {},
     "output_type": "execute_result"
    }
   ],
   "source": [
    "service.backend('ibm_brisbane')"
   ]
  },
  {
   "cell_type": "markdown",
   "metadata": {
    "id": "Fk7bXOzW6KHa"
   },
   "source": [
    "### Filter backends\n",
    "\n",
    "You can also filter the available backends by their properties. For more general **filters**, set the filters argument to a function that accepts a backend object and returns **True** if it meets your criteria. Refer to the API documentation for more details.\n",
    "\n",
    "The following code returns only backends that fit these criteria:\n",
    "\n",
    "\n",
    "```\n",
    "Are real quantum devices (simulator=False)\n",
    "Are currently operational (operational=True)\n",
    "Have at least 5 qubits (min_num_qubits=5)\n",
    "```\n",
    "\n",
    "\n"
   ]
  },
  {
   "cell_type": "code",
   "execution_count": 21,
   "metadata": {
    "colab": {
     "base_uri": "https://localhost:8080/"
    },
    "executionInfo": {
     "elapsed": 5035,
     "status": "ok",
     "timestamp": 1726820364116,
     "user": {
      "displayName": "STHEFANIE JOFER GOMES PASSO",
      "userId": "04409406707767418068"
     },
     "user_tz": 300
    },
    "id": "-d74zgyeqpGT",
    "outputId": "4d680749-fc4c-47ae-db5b-482ec8905201"
   },
   "outputs": [
    {
     "data": {
      "text/plain": [
       "[<IBMBackend('ibm_brisbane')>, <IBMBackend('ibm_sherbrooke')>]"
      ]
     },
     "execution_count": 21,
     "metadata": {},
     "output_type": "execute_result"
    }
   ],
   "source": [
    "service.backends(simulator=False, operational=True, min_num_qubits=5)"
   ]
  },
  {
   "cell_type": "markdown",
   "metadata": {
    "id": "noyXKJG46dgC"
   },
   "source": [
    "Use these keyword arguments to filter by any attribute in backend configuration (JSON schema) or status (JSON schema). A similar method is **QiskitRuntimeService.least_busy()**, which takes the same filters as backends() but returns the backend that matches the filters and has the least number of jobs pending in the queue:"
   ]
  },
  {
   "cell_type": "code",
   "execution_count": 22,
   "metadata": {
    "colab": {
     "base_uri": "https://localhost:8080/"
    },
    "executionInfo": {
     "elapsed": 23704,
     "status": "ok",
     "timestamp": 1726820387815,
     "user": {
      "displayName": "STHEFANIE JOFER GOMES PASSO",
      "userId": "04409406707767418068"
     },
     "user_tz": 300
    },
    "id": "dkOFh_SF6ZiX",
    "outputId": "0b660f34-743e-446c-f110-92a253383c34"
   },
   "outputs": [
    {
     "data": {
      "text/plain": [
       "<IBMBackend('ibm_brisbane')>"
      ]
     },
     "execution_count": 22,
     "metadata": {},
     "output_type": "execute_result"
    }
   ],
   "source": [
    "service.least_busy(simulator=False, operational=True, min_num_qubits=5)"
   ]
  },
  {
   "cell_type": "markdown",
   "metadata": {
    "id": "DGDnsNTd6otA"
   },
   "source": [
    "## Static backend information\n",
    "\n",
    "Some information about a backend does not change regularly, such as its name, version, the number of qubits it has, and the types of features it supports. This information is available as attributes of the **backend** object.\n",
    "\n",
    "The following cell builds a description of a backend."
   ]
  },
  {
   "cell_type": "code",
   "execution_count": null,
   "metadata": {
    "colab": {
     "base_uri": "https://localhost:8080/"
    },
    "executionInfo": {
     "elapsed": 1695,
     "status": "ok",
     "timestamp": 1726820389506,
     "user": {
      "displayName": "STHEFANIE JOFER GOMES PASSO",
      "userId": "04409406707767418068"
     },
     "user_tz": 300
    },
    "id": "Lt2bRW8c6kgX",
    "outputId": "f311c498-a9ed-4b0c-9a41-4b1139e47aaf"
   },
   "outputs": [
    {
     "name": "stdout",
     "output_type": "stream",
     "text": [
      "Name: ibm_sherbrooke\n",
      "Version: 2\n",
      "No. of qubits: 127\n",
      "\n"
     ]
    }
   ],
   "source": [
    "backend = service.backend(\"ibm_sherbrooke\")\n",
    "\n",
    "print(\n",
    "    f\"Name: {backend.name}\\n\"\n",
    "    f\"Version: {backend.version}\\n\"\n",
    "    f\"No. of qubits: {backend.num_qubits}\\n\"\n",
    ")"
   ]
  },
  {
   "cell_type": "code",
   "execution_count": 25,
   "metadata": {},
   "outputs": [
    {
     "name": "stdout",
     "output_type": "stream",
     "text": [
      "Name: ibm_brisbane\n",
      "Version: 2\n",
      "No. of qubits: 127\n",
      "\n"
     ]
    }
   ],
   "source": [
    "backend = service.backend(\"ibm_brisbane\")\n",
    "\n",
    "print(\n",
    "    f\"Name: {backend.name}\\n\"\n",
    "    f\"Version: {backend.version}\\n\"\n",
    "    f\"No. of qubits: {backend.num_qubits}\\n\"\n",
    ")"
   ]
  },
  {
   "cell_type": "markdown",
   "metadata": {
    "id": "pFxESURS6zOK"
   },
   "source": [
    "# Creating our first circuit\n",
    "\n",
    "For a full list of attributes, see the IBMBackend API [documentation](https://docs.quantum.ibm.com/api/qiskit-ibm-runtime/qiskit_ibm_runtime.IBMBackend).\n",
    "\n"
   ]
  },
  {
   "cell_type": "code",
   "execution_count": 26,
   "metadata": {
    "id": "Sy-IJaF-uGT-"
   },
   "outputs": [
    {
     "name": "stdout",
     "output_type": "stream",
     "text": [
      "Defaulting to user installation because normal site-packages is not writeable\n",
      "Collecting pylatexenc\n",
      "  Downloading pylatexenc-2.10.tar.gz (162 kB)\n",
      "\u001b[K     |████████████████████████████████| 162 kB 828 kB/s eta 0:00:01\n",
      "\u001b[?25hBuilding wheels for collected packages: pylatexenc\n",
      "  Building wheel for pylatexenc (setup.py) ... \u001b[?25ldone\n",
      "\u001b[?25h  Created wheel for pylatexenc: filename=pylatexenc-2.10-py3-none-any.whl size=136833 sha256=dbb5f98b2447d2006e6d2afced1afcd04379f53bd655a4b738280043b592a8cc\n",
      "  Stored in directory: /Users/nicolasfrey/Library/Caches/pip/wheels/a3/68/66/2f15abd0673d83c02f354115feedeb89c3daed2ac319b11090\n",
      "Successfully built pylatexenc\n",
      "Installing collected packages: pylatexenc\n",
      "Successfully installed pylatexenc-2.10\n",
      "\u001b[33mWARNING: You are using pip version 21.2.4; however, version 25.1.1 is available.\n",
      "You should consider upgrading via the '/Applications/Xcode.app/Contents/Developer/usr/bin/python3 -m pip install --upgrade pip' command.\u001b[0m\n"
     ]
    }
   ],
   "source": [
    "!pip3 install pylatexenc"
   ]
  },
  {
   "cell_type": "code",
   "execution_count": 33,
   "metadata": {
    "id": "Ky5kzSh7uUPe"
   },
   "outputs": [
    {
     "data": {
      "image/png": "[encoded data removed]",
      "text/plain": [
       "<Figure size 705.35x284.278 with 1 Axes>"
      ]
     },
     "execution_count": 33,
     "metadata": {},
     "output_type": "execute_result"
    }
   ],
   "source": [
    "%matplotlib inline\n",
    "# Importing standard Qiskit libraries and configuring account\n",
    "from qiskit import QuantumRegister,ClassicalRegister,QuantumCircuit\n",
    "#from qiskit.compiler import transpile, assemble\n",
    "import matplotlib.pyplot as plt\n",
    "\n",
    "# Loading your IBM Q account(s)\n",
    "\n",
    "# We create a quantum circuit that is made up of the quantum register and the classic register\n",
    "qr = QuantumRegister(2, 'q')\n",
    "cr = ClassicalRegister(2, 'c')\n",
    "circuit = QuantumCircuit(qr, cr)\n",
    "# Add gates to the quantum circuit circuit.x(qr[1])\n",
    "circuit.barrier()\n",
    "circuit.h(qr[0])\n",
    "circuit.h(qr[1])\n",
    "circuit.cx(qr[0], qr[1])\n",
    "circuit.h(qr[0])\n",
    "circuit.h(qr[1])\n",
    "circuit.barrier()\n",
    "circuit.measure(qr, cr)\n",
    "circuit.draw(\"mpl\") \n",
    "\n",
    "\n",
    "\n"
   ]
  },
  {
   "cell_type": "markdown",
   "metadata": {
    "id": "Co75wR-29zhv"
   },
   "source": [
    "If the draw does not work: \"you must restart your notebook kernel and run again. It worked for me!\" [Stakoverflow](https://stackoverflow.com/questions/68954685/qiskit-mpl-drawer-module)"
   ]
  },
  {
   "cell_type": "markdown",
   "metadata": {
    "id": "1Qw-pIZ5-eKw"
   },
   "source": [
    "Set the backend on which to run.\n",
    "\n",
    "Please first check which backends are available for you by running the below codes, then use that one which is available.\n"
   ]
  },
  {
   "cell_type": "code",
   "execution_count": 35,
   "metadata": {
    "id": "8ioKSTevuYYQ"
   },
   "outputs": [],
   "source": [
    "backend = service.least_busy(simulator=False, operational=True, min_num_qubits=5)"
   ]
  },
  {
   "cell_type": "code",
   "execution_count": 36,
   "metadata": {
    "id": "zwWDJnw-uYz0"
   },
   "outputs": [],
   "source": [
    "from qiskit_ibm_runtime import qiskit_runtime_service, SamplerV2 as Sampler\n",
    "from qiskit.transpiler.preset_passmanagers import generate_preset_pass_manager\n"
   ]
  },
  {
   "cell_type": "markdown",
   "metadata": {
    "id": "TLTaptCC_Fie"
   },
   "source": [
    "Create a quantum job for the circuit"
   ]
  },
  {
   "cell_type": "code",
   "execution_count": null,
   "metadata": {
    "colab": {
     "base_uri": "https://localhost:8080/"
    },
    "executionInfo": {
     "elapsed": 176,
     "status": "ok",
     "timestamp": 1726822814115,
     "user": {
      "displayName": "STHEFANIE JOFER GOMES PASSO",
      "userId": "04409406707767418068"
     },
     "user_tz": 300
    },
    "id": "Q3plgR5LpNT3",
    "outputId": "45e9704d-5842-4439-d640-237a50ba73d7"
   },
   "outputs": [
    {
     "name": "stderr",
     "output_type": "stream",
     "text": [
      "/Users/nicolasfrey/Library/Python/3.9/lib/python/site-packages/qiskit_ibm_runtime/qiskit_runtime_service.py:1111: UserWarning: IBM Quantum Platform is moving, and this version will be sunset on July 1. To get started on the new platform, read the migration guide at https://docs.quantum.ibm.com/migration-guides/classic-iqp-to-cloud-iqp\n",
      "  warnings.warn(warning_message)\n"
     ]
    },
    {
     "ename": "AttributeError",
     "evalue": "'DataBin' object has no attribute 'c1'",
     "output_type": "error",
     "traceback": [
      "\u001b[0;31m---------------------------------------------------------------------------\u001b[0m",
      "\u001b[0;31mAttributeError\u001b[0m                            Traceback (most recent call last)",
      "Cell \u001b[0;32mIn[37], line 12\u001b[0m\n\u001b[1;32m     10\u001b[0m \u001b[38;5;66;03m# Get the result counts for the quantum circuit\u001b[39;00m\n\u001b[1;32m     11\u001b[0m pub_result \u001b[38;5;241m=\u001b[39m result[\u001b[38;5;241m0\u001b[39m]\n\u001b[0;32m---> 12\u001b[0m counts \u001b[38;5;241m=\u001b[39m \u001b[43mpub_result\u001b[49m\u001b[38;5;241;43m.\u001b[39;49m\u001b[43mdata\u001b[49m\u001b[38;5;241;43m.\u001b[39;49m\u001b[43mc1\u001b[49m\u001b[38;5;241m.\u001b[39mget_counts()\n\u001b[1;32m     13\u001b[0m \u001b[38;5;28mprint\u001b[39m(\u001b[38;5;124mf\u001b[39m\u001b[38;5;124m\"\u001b[39m\u001b[38;5;124m >> Measurement results: \u001b[39m\u001b[38;5;132;01m{\u001b[39;00mcounts\u001b[38;5;132;01m}\u001b[39;00m\u001b[38;5;124m\"\u001b[39m)\n",
      "\u001b[0;31mAttributeError\u001b[0m: 'DataBin' object has no attribute 'c1'"
     ]
    }
   ],
   "source": [
    "# Optimize the circuit using a preset pass manager\n",
    "pm = generate_preset_pass_manager(backend=backend, optimization_level=1)\n",
    "optimized_circuit = pm.run(circuit)\n",
    "\n",
    "# Initialize the sampler and run the job\n",
    "sampler = Sampler(backend)\n",
    "job = sampler.run([optimized_circuit])\n",
    "result = job.result()\n",
    "\n",
    "# Get the result counts for the quantum circuit\n",
    "pub_result = result[0]\n",
    "counts = pub_result.data.c1.get_counts()\n",
    "print(f\" >> Measurement results: {counts}\")"
   ]
  },
  {
   "cell_type": "code",
   "execution_count": 39,
   "metadata": {},
   "outputs": [
    {
     "name": "stdout",
     "output_type": "stream",
     "text": [
      "SamplerPubResult(data=DataBin(c=BitArray(<shape=(), num_shots=4096, num_bits=2>)), metadata={'circuit_metadata': {}})\n"
     ]
    }
   ],
   "source": [
    "print(job.result()[0]) #.data.measure.get_int_counts())\n",
    "#print(f\" >> Measurement results: {counts}\")"
   ]
  },
  {
   "cell_type": "code",
   "execution_count": 40,
   "metadata": {},
   "outputs": [
    {
     "name": "stdout",
     "output_type": "stream",
     "text": [
      " >> Measurement results: {'01': 15, '00': 3530, '10': 521, '11': 30}\n"
     ]
    }
   ],
   "source": [
    "\n",
    "# Optimize the circuit using a preset pass manager\n",
    "#pm = generate_preset_pass_manager(backend=backend, optimization_level=1)\n",
    "#optimized_circuit = pm.run(circuit)\n",
    "\n",
    "# Initialize the sampler and run the job\n",
    "#sampler = Sampler(backend)\n",
    "#job = sampler.run([optimized_circuit])\n",
    "result = job.result()\n",
    "\n",
    "# Get the result counts for the quantum circuit\n",
    "pub_result = result[0]\n",
    "counts = pub_result.data.c.get_counts()\n",
    "print(f\" >> Measurement results: {counts}\")"
   ]
  },
  {
   "cell_type": "markdown",
   "metadata": {
    "id": "ofa4t8eijP2W"
   },
   "source": [
    "You can also plot the result to be easier to understand"
   ]
  },
  {
   "cell_type": "code",
   "execution_count": 41,
   "metadata": {
    "id": "BUppefbKujvE"
   },
   "outputs": [
    {
     "data": {
      "image/png": "[encoded data removed]",
      "text/plain": [
       "<Figure size 640x480 with 1 Axes>"
      ]
     },
     "execution_count": 41,
     "metadata": {},
     "output_type": "execute_result"
    }
   ],
   "source": [
    "from qiskit.visualization import plot_histogram\n",
    "plot_histogram(counts)"
   ]
  },
  {
   "cell_type": "markdown",
   "metadata": {
    "id": "LiTU8xD6Eo3S"
   },
   "source": [
    "Here is another example:"
   ]
  },
  {
   "cell_type": "code",
   "execution_count": null,
   "metadata": {
    "id": "hNVT9h6AAm32"
   },
   "outputs": [],
   "source": [
    "from qiskit import ClassicalRegister, QuantumRegister, QuantumCircuit\n",
    "from qiskit.transpiler.preset_passmanagers import generate_preset_pass_manager\n",
    "from qiskit_ibm_runtime import QiskitRuntimeService, SamplerV2 as Sampler"
   ]
  },
  {
   "cell_type": "code",
   "execution_count": null,
   "metadata": {
    "colab": {
     "base_uri": "https://localhost:8080/",
     "height": 985
    },
    "executionInfo": {
     "elapsed": 1084,
     "status": "ok",
     "timestamp": 1726820409731,
     "user": {
      "displayName": "STHEFANIE JOFER GOMES PASSO",
      "userId": "04409406707767418068"
     },
     "user_tz": 300
    },
    "id": "Oze0Hmr7D368",
    "outputId": "947a24d1-4db2-41dc-c81c-19b040d536a5"
   },
   "outputs": [
    {
     "data": {
      "image/png": "[encoded data removed]",
      "text/plain": [
       "<Figure size 1167.47x1204 with 1 Axes>"
      ]
     },
     "execution_count": 15,
     "metadata": {},
     "output_type": "execute_result"
    }
   ],
   "source": [
    "alpha = ClassicalRegister(5, \"alpha\")\n",
    "beta = ClassicalRegister(7, \"beta\")\n",
    "qreg = QuantumRegister(12)\n",
    "\n",
    "circuit = QuantumCircuit(qreg, alpha, beta)\n",
    "circuit.h(0)\n",
    "circuit.measure(qreg[:5], alpha)\n",
    "circuit.measure(qreg[5:], beta)\n",
    "circuit.draw('mpl')"
   ]
  },
  {
   "cell_type": "code",
   "execution_count": null,
   "metadata": {
    "colab": {
     "base_uri": "https://localhost:8080/"
    },
    "executionInfo": {
     "elapsed": 48159,
     "status": "ok",
     "timestamp": 1726820478380,
     "user": {
      "displayName": "STHEFANIE JOFER GOMES PASSO",
      "userId": "04409406707767418068"
     },
     "user_tz": 300
    },
    "id": "ZPF98hb4_ErC",
    "outputId": "affecef0-0a1a-4407-c4c3-a4ee8d609c5d"
   },
   "outputs": [
    {
     "name": "stdout",
     "output_type": "stream",
     "text": [
      " >> Counts for the alpha output register: {'01000': 34, '00000': 1829, '00001': 1942, '10000': 36, '00010': 36, '00101': 44, '01001': 21, '01100': 2, '00011': 42, '10001': 45, '10011': 2, '00100': 53, '00111': 1, '10010': 1, '00110': 4, '10101': 2, '01011': 1, '01010': 1}\n",
      " >> Counts for the beta output register: {'0000100': 21, '0000000': 3563, '0000001': 138, '0000011': 11, '0100000': 35, '0010000': 64, '0000010': 188, '0001000': 8, '1000000': 49, '0010001': 3, '1010000': 2, '0010010': 5, '0110000': 2, '1000001': 2, '1000010': 3, '0100010': 2}\n"
     ]
    }
   ],
   "source": [
    "service = QiskitRuntimeService(channel=\"ibm_quantum\", token=\"482cfbd6dec57e562dd79640807643b60b7388db6a0ff63e30b4bd92d4d55601a902c6f005413b8a69f6677daf23c82fa14626594ab3656d9c8c0e9229f920de\")\n",
    "backend = service.least_busy(operational=True, simulator=False, min_num_qubits=12)\n",
    "pm = generate_preset_pass_manager(backend=backend, optimization_level=1)\n",
    "isa_circuit = pm.run(circuit)\n",
    "\n",
    "sampler = Sampler(backend)\n",
    "job = sampler.run([isa_circuit])\n",
    "result = job.result()\n",
    "# Get results for the first (and only) PUB\n",
    "pub_result = result[0]\n",
    "print(f\" >> Counts for the alpha output register: {pub_result.data.alpha.get_counts()}\")\n",
    "print(f\" >> Counts for the beta output register: {pub_result.data.beta.get_counts()}\")"
   ]
  },
  {
   "cell_type": "code",
   "execution_count": null,
   "metadata": {
    "colab": {
     "base_uri": "https://localhost:8080/",
     "height": 483
    },
    "executionInfo": {
     "elapsed": 551,
     "status": "ok",
     "timestamp": 1726820485497,
     "user": {
      "displayName": "STHEFANIE JOFER GOMES PASSO",
      "userId": "04409406707767418068"
     },
     "user_tz": 300
    },
    "id": "zBPdRCap67kL",
    "outputId": "f8efffc9-bbd5-40d3-ff39-528ecf92445b"
   },
   "outputs": [
    {
     "data": {
      "image/png": "[encoded data removed]",
      "text/plain": [
       "<Figure size 640x480 with 1 Axes>"
      ]
     },
     "execution_count": 18,
     "metadata": {},
     "output_type": "execute_result"
    }
   ],
   "source": [
    "from qiskit.visualization import plot_histogram\n",
    "\n",
    "counts1 = pub_result.data.alpha.get_counts()\n",
    "plot_histogram(counts1)"
   ]
  },
  {
   "cell_type": "code",
   "execution_count": null,
   "metadata": {
    "colab": {
     "base_uri": "https://localhost:8080/",
     "height": 499
    },
    "executionInfo": {
     "elapsed": 404,
     "status": "ok",
     "timestamp": 1726820498317,
     "user": {
      "displayName": "STHEFANIE JOFER GOMES PASSO",
      "userId": "04409406707767418068"
     },
     "user_tz": 300
    },
    "id": "z28jRUhf67uH",
    "outputId": "bf869e86-c588-467b-f73d-d0eee123a3f2"
   },
   "outputs": [
    {
     "data": {
      "image/png": "[encoded data removed]",
      "text/plain": [
       "<Figure size 640x480 with 1 Axes>"
      ]
     },
     "execution_count": 19,
     "metadata": {},
     "output_type": "execute_result"
    }
   ],
   "source": [
    "counts2 = pub_result.data.beta.get_counts()\n",
    "\n",
    "plot_histogram(counts2)"
   ]
  },
  {
   "cell_type": "markdown",
   "metadata": {
    "id": "6NgM8OOAlZR2"
   },
   "source": [
    "# Example with Many Quantum Gates:\n",
    "\n",
    "Below is a quantum circuit example that uses various quantum gates. This example demonstrates how to apply multiple gate types in a circuit. The gates used are: **Hadamard (H), Pauli-X (X), Pauli-Y (Y), Pauli-Z (Z), Controlled-NOT (CX), Swap (SWAP), and T-gate (T)**.\n",
    "\n",
    "![link text](https://upload.wikimedia.org/wikipedia/commons/thumb/e/e0/Quantum_Logic_Gates.png/440px-Quantum_Logic_Gates.png)\n",
    "\n",
    "Here is a circuit example of how to apply all this gates:"
   ]
  },
  {
   "cell_type": "code",
   "execution_count": 11,
   "metadata": {
    "id": "Wo4o6Q23lZnU"
   },
   "outputs": [
    {
     "data": {
      "image/png": "[encoded data removed]",
      "text/plain": [
       "<Figure size 789.163x367.889 with 1 Axes>"
      ]
     },
     "execution_count": 11,
     "metadata": {},
     "output_type": "execute_result"
    }
   ],
   "source": [
    "from qiskit import QuantumCircuit, QuantumRegister, ClassicalRegister\n",
    "from qiskit.visualization import plot_histogram\n",
    "import matplotlib.pyplot as plt\n",
    "\n",
    "# Create Quantum and Classical Registers\n",
    "qr = QuantumRegister(3, 'q')\n",
    "cr = ClassicalRegister(3, 'c')\n",
    "\n",
    "# Create a Quantum Circuit\n",
    "circuit = QuantumCircuit(qr, cr)\n",
    "\n",
    "# Apply various gates\n",
    "circuit.barrier()\n",
    "circuit.h(qr[0])  \n",
    "circuit.cx(qr[0], qr[1])\n",
    "circuit.swap(qr[1], qr[2])\n",
    "circuit.barrier()\n",
    "\n",
    "#Measure \n",
    "circuit.measure(qr, cr)\n",
    "\n",
    "# Draw the circuit\n",
    "circuit.draw('mpl')"
   ]
  },
  {
   "cell_type": "markdown",
   "metadata": {
    "id": "MR9UYkS-mIk1"
   },
   "source": [
    "This circuit applies several different gates on 3 qubits and ends by measuring all qubits. Below are two exercises that will help students practice these gates.\n",
    "\n",
    "## Exercise 1: Bell State with Swap Gate\n",
    "\n",
    "Objective: Create a quantum circuit that generates a Bell state between two qubits and then swaps their states.\n",
    "\n",
    "Instructions:\n",
    "\n",
    "\t1.\tStart by applying a Hadamard gate to the first qubit to create a superposition.\n",
    "\t2.\tApply a Controlled-NOT (CX) gate between the first and second qubits to entangle them.\n",
    "\t3.\tUse a Swap gate to swap the states of the second and third qubits.\n",
    "\t4.\tMeasure the qubits and visualize the results.\n",
    "\n",
    "Hints:\n",
    "\n",
    "\t•\tUse the h() gate to apply a Hadamard gate.\n",
    "\t•\tUse the cx() gate to apply a CNOT gate.\n",
    "\t•\tUse the swap() gate to apply a SWAP gate.\n",
    "\t•\tUse the measure() function to measure the qubits."
   ]
  },
  {
   "cell_type": "code",
   "execution_count": null,
   "metadata": {
    "id": "lXUSKYe5uw8n"
   },
   "outputs": [],
   "source": [
    "# Bell State with Swap Gate\n",
    "circuit.barrier()\n",
    "circuit.h(qr[0])  \n",
    "circuit.cx(qr[0], qr[1])\n",
    "circuit.swap(qr[1], qr[2])\n",
    "circuit.barrier()\n",
    "\n",
    "#Measure \n",
    "circuit.measure(qr, cr)"
   ]
  },
  {
   "cell_type": "markdown",
   "metadata": {
    "id": "dSqWapYxohZC"
   },
   "source": [
    "## Exercise 2: Implementing a Qiskit Circuit from a Circuit Plot\n",
    "\n",
    "Objective:\n",
    "\n",
    "Implement the Qiskit circuit that matches the quantum circuit plot shown below. The circuit involves 4 qubits and uses a combination of Pauli-X (X), CNOT (CX), Measure and Barrier.\n",
    "\n",
    "![link text](https://i.sstatic.net/fIVoY.png)\n"
   ]
  },
  {
   "cell_type": "code",
   "execution_count": 10,
   "metadata": {
    "id": "1uPj6TzUuyvm"
   },
   "outputs": [
    {
     "data": {
      "image/png": "[encoded data removed]",
      "text/plain": [
       "<Figure size 789.163x451.5 with 1 Axes>"
      ]
     },
     "execution_count": 10,
     "metadata": {},
     "output_type": "execute_result"
    }
   ],
   "source": [
    "%matplotlib inline\n",
    "# Importing standard Qiskit libraries and configuring account\n",
    "from qiskit import QuantumRegister,ClassicalRegister,QuantumCircuit\n",
    "import matplotlib.pyplot as plt\n",
    "\n",
    "#Registers\n",
    "qr = QuantumRegister(4, 'q')\n",
    "cr = ClassicalRegister(2, 'c')\n",
    "circuit = QuantumCircuit(qr, cr)\n",
    "\n",
    "#Circuit Logic\n",
    "circuit.x(qr[0]) #X Gates\n",
    "circuit.x(qr[1])\n",
    "circuit.barrier()\n",
    "circuit.cx(qr[0], qr[2]) #CNOTS\n",
    "circuit.cx(qr[1], qr[2])\n",
    "circuit.ccx(qr[0], qr[1], qr[3]) #CCX\n",
    "circuit.barrier()\n",
    "\n",
    "#Measure Only qr[2] and qr[3]\n",
    "circuit.measure(qr[2], cr[0])\n",
    "circuit.measure(qr[3], cr[1])\n",
    "\n",
    "#Visualize\n",
    "circuit.draw('mpl')"
   ]
  },
  {
   "cell_type": "markdown",
   "metadata": {
    "id": "bhy5z7rP7i37"
   },
   "source": [
    "**QuantumRegister** – this is a class that holds our qubits.\n",
    "\n",
    "**QuantumCircuit** – we will store opera!ons into QuantumCircuits.\n",
    "\n",
    "**execute** – this is a function that we must import in order to run our quantum algorithms.\n",
    "\n",
    "\n",
    "Review\n",
    "\n",
    "In order to run a circuit with success i=on qiskit quantum computers we need to keep in mind the following steps:\n",
    "\n",
    "```\n",
    "- Import the libraries\n",
    "- Connect our accont by token\n",
    "- Get the backend\n",
    "- Create a quantum ciscuit using qiskit tools\n",
    "- Run a job\n",
    "- Plot the results\n",
    "\n",
    "```\n",
    "\n",
    "This steps wil help you remember what you need to do, create your code and evaluate it.\n",
    "\n",
    "\n",
    "\n",
    "\n",
    "\n",
    "\n",
    "References:\n",
    "\n",
    "[Intall Qiskit](https://docs.quantum.ibm.com/guides/install-qiskit)\n",
    "\n",
    "[Get backend information with Qiskit](https://docs.quantum.ibm.com/guides/get-qpu-information)\n",
    "\n",
    "[Migrate to the Qiskit Runtime V2 primitives](https://docs.quantum.ibm.com/migration-guides/v2-primitives)\n",
    "\n",
    "[IBMQJob](https://docs.quantum.ibm.com/api/qiskit/0.19/qiskit.providers.ibmq.job.IBMQJob)\n",
    "\n",
    "[Catalog](https://learning.quantum.ibm.com/catalog/tutorials)\n",
    "\n",
    "[Qiskit Tutorials on Github](https://github.com/Qiskit/qiskit-tutorials/blob/master/tutorials/circuits/01_circuit_basics.ipynb)"
   ]
  },
  {
   "cell_type": "code",
   "execution_count": null,
   "metadata": {
    "id": "p4TTqAq1yON4"
   },
   "outputs": [],
   "source": []
  }
 ],
 "metadata": {
  "colab": {
   "authorship_tag": "ABX9TyPB/t26OzH6kEI5LErzaaDF",
   "provenance": [
    {
     "file_id": "1J9mhaYkYzI-zcDwQt8kthe2YKSt7A1Tw",
     "timestamp": 1726823684053
    }
   ]
  },
  "kernelspec": {
   "display_name": "Python 3",
   "name": "python3"
  },
  "language_info": {
   "codemirror_mode": {
    "name": "ipython",
    "version": 3
   },
   "file_extension": ".py",
   "mimetype": "text/x-python",
   "name": "python",
   "nbconvert_exporter": "python",
   "pygments_lexer": "ipython3",
   "version": "3.9.6"
  }
 },
 "nbformat": 4,
 "nbformat_minor": 0
}
