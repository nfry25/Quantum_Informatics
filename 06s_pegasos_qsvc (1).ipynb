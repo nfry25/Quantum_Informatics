{
 "cells": [
  {
   "cell_type": "markdown",
   "id": "opened-florist",
   "metadata": {},
   "source": [
    "# Pegasos Quantum Support Vector Classifier\n",
    "\n",
    "There's another SVM based algorithm that benefits from the quantum kernel method. Here, we introduce an implementation of a another classification algorithm, which is an alternative version to the `QSVC` available in Qiskit Machine Learning and shown in the [\"Quantum Kernel Machine Learning\"](./03_quantum_kernel.ipynb) tutorial. This classification algorithm implements the Pegasos algorithm from the paper \"Pegasos: Primal Estimated sub-GrAdient SOlver for SVM\" by Shalev-Shwartz et al., see: https://home.ttic.edu/~nati/Publications/PegasosMPB.pdf.\n",
    "\n",
    "This algorithm is an alternative to the dual optimization from the `scikit-learn` package, benefits from the kernel trick, and yields a training complexity that is independent of the size of the training set. Thus, the `PegasosQSVC` is expected to train faster than QSVC for sufficiently large training sets.\n",
    "\n",
    "The algorithm can be used as direct replacement of `QSVC` with some hyper-parameterization."
   ]
  },
  {
   "cell_type": "markdown",
   "id": "thirty-painting",
   "metadata": {},
   "source": [
    "Let's generate some data:"
   ]
  },
  {
   "cell_type": "code",
   "execution_count": 3,
   "id": "impressed-laser",
   "metadata": {},
   "outputs": [
    {
     "name": "stdout",
     "output_type": "stream",
     "text": [
      "(20, 2) (20,)\n"
     ]
    }
   ],
   "source": [
    "# complete the code\n",
    "from sklearn.datasets import make_blobs\n",
    "X, y = make_blobs(n_samples=20, n_features=2, centers=2, random_state=3, shuffle=True)\n",
    "print(X.shape, y.shape)\n"
   ]
  },
  {
   "cell_type": "markdown",
   "id": "moderate-yugoslavia",
   "metadata": {},
   "source": [
    "We pre-process the data to ensure compatibility with the rotation encoding and split it into the training and test datasets."
   ]
  },
  {
   "cell_type": "code",
   "execution_count": 4,
   "id": "adolescent-composer",
   "metadata": {},
   "outputs": [
    {
     "name": "stdout",
     "output_type": "stream",
     "text": [
      "[[-5.80519067  0.86322756]\n",
      " [ 1.99832549  3.06188882]\n",
      " [ 2.50210641  4.39967272]\n",
      " [-4.98567132 -2.20253107]\n",
      " [-4.53817598 -1.52658893]]\n",
      "[[0.         1.19272972]\n",
      " [2.95107648 2.04811626]\n",
      " [3.14159265 2.56857948]\n",
      " [0.30991982 0.        ]\n",
      " [0.47915032 0.26297448]]\n"
     ]
    }
   ],
   "source": [
    "# complete the code\n",
    "import numpy as np\n",
    "from sklearn.model_selection import train_test_split\n",
    "from sklearn.preprocessing import MinMaxScaler\n",
    "\n",
    "print(X[:5])\n",
    "X = MinMaxScaler(feature_range=(0,np.pi)).fit_transform(X)\n",
    "print(X[:5])"
   ]
  },
  {
   "cell_type": "code",
   "execution_count": 5,
   "id": "a13ede37",
   "metadata": {},
   "outputs": [
    {
     "name": "stdout",
     "output_type": "stream",
     "text": [
      "(13, 2) (7, 2) (13,) (7,)\n"
     ]
    }
   ],
   "source": [
    "# train, test, split\n",
    "X_train, X_test, y_train, y_test = train_test_split(X, y, test_size=.33, shuffle=False)\n",
    "print(X_train.shape, X_test.shape, y_train.shape, y_test.shape)"
   ]
  },
  {
   "cell_type": "markdown",
   "id": "central-poverty",
   "metadata": {},
   "source": [
    "We have two features in the dataset, so we set a number of qubits to the number of features in the dataset.\n",
    "\n",
    "Then we set $\\tau$ to the number of steps performed during the training procedure. Please note that, there is no early stopping criterion in the algorithm. The algorithm iterates over all $\\tau$ steps.\n",
    "\n",
    "And the last one is the hyperparameter $C$. This is a positive regularization parameter. The strength of the regularization is inversely proportional to $C$. Smaller $C$ induce smaller weights which generally helps preventing overfitting. However, due to the nature of this algorithm, some of the computation steps become trivial for larger $C$. Thus, larger $C$ improve the performance of the algorithm drastically. If the data is linearly separable in feature space, $C$ should be chosen to be large. If the separation is not perfect, $C$ should be chosen smaller to prevent overfitting."
   ]
  },
  {
   "cell_type": "code",
   "execution_count": 7,
   "id": "dying-dispatch",
   "metadata": {},
   "outputs": [],
   "source": [
    "# number of qubits is equal to the number of features\n",
    "num_qbit = 2\n",
    "# number of steps performed during the training procedure\n",
    "num_steps = 1000\n",
    "# regularization parameter\n",
    "c = 1000"
   ]
  },
  {
   "cell_type": "markdown",
   "id": "improving-wilderness",
   "metadata": {},
   "source": [
    "The algorithm will run using:\n",
    "\n",
    "- The default fidelity instantiated in `FidelityQuantumKernel`\n",
    "- A quantum kernel created from `ZFeatureMap`"
   ]
  },
  {
   "cell_type": "code",
   "execution_count": 10,
   "id": "automated-allergy",
   "metadata": {},
   "outputs": [],
   "source": [
    "# complete the code\n",
    "from qiskit.circuit.library import ZZFeatureMap, PauliFeatureMap, ZFeatureMap\n",
    "# from qiskit_ibm_runtime import qiskit_runtime_service, SamplerV2 as Sampler\n",
    "from qiskit_ibm_runtime import SamplerV2 as Sampler\n",
    "from qiskit_machine_learning.kernels import FidelityQuantumKernel\n",
    "\n",
    "#complete code\n",
    "feature_map = ZFeatureMap(feature_dimension=num_qbit, reps=1)\n",
    "# sampler = Sampler() #backend\n",
    "kernel = FidelityQuantumKernel(feature_map=feature_map)"
   ]
  },
  {
   "cell_type": "markdown",
   "id": "attractive-stationery",
   "metadata": {},
   "source": [
    "The implementation `PegasosQSVC` is compatible with the `scikit-learn` interfaces and has a pretty standard way of training a model. In the constructor we pass parameters of the algorithm, in this case there are a regularization hyper-parameter $C$ and a number of steps.\n",
    "\n",
    "Then we pass training features and labels to the `fit` method, which trains a models and returns a fitted classifier.\n",
    "\n",
    "Afterwards, we score our model using test features and labels."
   ]
  },
  {
   "cell_type": "code",
   "execution_count": 11,
   "id": "representative-thumb",
   "metadata": {},
   "outputs": [
    {
     "data": {
      "text/plain": [
       "<qiskit_machine_learning.algorithms.classifiers.pegasos_qsvc.PegasosQSVC at 0x30a7b9af0>"
      ]
     },
     "execution_count": 11,
     "metadata": {},
     "output_type": "execute_result"
    }
   ],
   "source": [
    "# complete the code\n",
    "from qiskit_machine_learning.algorithms import PegasosQSVC\n",
    "model = PegasosQSVC(quantum_kernel=kernel)\n",
    "model.fit(X=X_train, y=y_train)"
   ]
  },
  {
   "cell_type": "code",
   "execution_count": 14,
   "id": "c46d8508",
   "metadata": {},
   "outputs": [
    {
     "name": "stdout",
     "output_type": "stream",
     "text": [
      "Score teste:  0.8571428571428571\n"
     ]
    }
   ],
   "source": [
    "score = model.score(X=X_test, y=y_test)\n",
    "print(\"Score teste: \", score)"
   ]
  },
  {
   "cell_type": "code",
   "execution_count": 13,
   "id": "b5dec3ce",
   "metadata": {},
   "outputs": [
    {
     "name": "stdout",
     "output_type": "stream",
     "text": [
      "Score teste:  1.0\n"
     ]
    }
   ],
   "source": [
    "score = model.score(X=X_train, y=y_train)\n",
    "print(\"Score teste: \", score)"
   ]
  },
  {
   "cell_type": "markdown",
   "id": "sustainable-empire",
   "metadata": {},
   "source": [
    "For visualization purposes we create a mesh grid of a predefined step that spans our minimum and maximum values we applied in MinMaxScaler. We also add some margin to the grid for better representation of the training and test samples."
   ]
  },
  {
   "cell_type": "code",
   "execution_count": 15,
   "id": "judicial-pottery",
   "metadata": {},
   "outputs": [],
   "source": [
    "# complete the code\n",
    "grid_step = 0.2\n",
    "margin = 0.2\n",
    "grid_x, grid_y = np.meshgrid(np.arange(-margin, np.pi+margin, grid_step), np.arange(-margin,np.pi+margin, grid_step))\n"
   ]
  },
  {
   "cell_type": "markdown",
   "id": "marine-constitution",
   "metadata": {},
   "source": [
    "We convert the grid to the shape compatible with the model, the shape should be `(n_samples, n_features)`.\n",
    "Then for each grid point we predict a label. In our case predicted labels will be used for coloring the grid."
   ]
  },
  {
   "cell_type": "code",
   "execution_count": 17,
   "id": "competitive-outdoors",
   "metadata": {},
   "outputs": [],
   "source": [
    "# complete the code\n",
    "mesh_grid_features = np.column_stack((grid_x.ravel(), grid_y.ravel()))\n",
    "meshgrid_colors = model.predict(mesh_grid_features)"
   ]
  },
  {
   "cell_type": "code",
   "execution_count": 18,
   "id": "136fa364",
   "metadata": {},
   "outputs": [
    {
     "data": {
      "text/plain": [
       "array([0, 1, 1, 1, 1, 1, 1, 1, 1, 0, 0, 0, 0, 0, 0, 0, 0, 1, 1, 1, 1, 1,\n",
       "       1, 1, 1, 1, 1, 1, 0, 0, 0, 0, 0, 1, 1, 1, 1, 1, 1, 1, 1, 1, 1, 1,\n",
       "       1, 1, 1, 0, 0, 1, 1, 1, 1, 1, 1, 1, 1, 1, 1, 1, 1, 1, 1, 1, 1, 1,\n",
       "       1, 1, 1, 1, 1, 1, 1, 1, 1, 1, 1, 1, 1, 1, 1, 1, 1, 1, 1, 1, 1, 1,\n",
       "       1, 1, 1, 1, 1, 1, 1, 1, 1, 1, 1, 1, 1, 1, 1, 1, 1, 1, 1, 1, 1, 1,\n",
       "       1, 1, 1, 1, 1, 1, 1, 1, 1, 1, 1, 1, 1, 1, 1, 1, 1, 1, 1, 1, 1, 1,\n",
       "       1, 1, 1, 1, 1, 1, 1, 1, 1, 1, 1, 1, 1, 1, 1, 1, 1, 1, 1, 1, 1, 1,\n",
       "       1, 1, 0, 0, 1, 1, 1, 1, 1, 1, 1, 1, 1, 1, 1, 1, 1, 1, 1, 0, 0, 0,\n",
       "       0, 0, 1, 1, 0, 0, 1, 1, 1, 1, 1, 1, 1, 1, 0, 0, 0, 0, 0, 0, 0, 1,\n",
       "       0, 0, 1, 1, 1, 1, 1, 1, 1, 1, 0, 0, 0, 0, 0, 0, 0, 0, 0, 0, 0, 1,\n",
       "       1, 1, 1, 1, 1, 0, 0, 0, 0, 0, 0, 0, 0, 0, 0, 0, 0, 1, 1, 1, 1, 1,\n",
       "       1, 0, 0, 0, 0, 0, 0, 0, 0, 0, 0, 0, 0, 1, 1, 1, 1, 1, 1, 0, 0, 0,\n",
       "       0, 0, 0, 0, 0, 0, 0, 0, 1, 1, 1, 1, 1, 1, 1, 0, 0, 0, 0, 0, 0, 0,\n",
       "       0, 1, 1, 1, 1, 1, 1, 1, 1, 1, 1, 1, 0, 0, 0, 0, 0, 0, 1, 1, 1, 1,\n",
       "       1, 1, 1, 1, 1, 1, 1, 1, 0, 0, 0, 0, 0, 1, 1, 1])"
      ]
     },
     "execution_count": 18,
     "metadata": {},
     "output_type": "execute_result"
    }
   ],
   "source": [
    "# complete the code\n",
    "meshgrid_colors"
   ]
  },
  {
   "cell_type": "markdown",
   "id": "former-constraint",
   "metadata": {},
   "source": [
    "Finally, we plot our grid according to the labels/colors we obtained from the model. We also plot training and test samples."
   ]
  },
  {
   "cell_type": "code",
   "execution_count": 19,
   "id": "monetary-knife",
   "metadata": {
    "tags": [
     "nbsphinx-thumbnail"
    ]
   },
   "outputs": [
    {
     "data": {
      "image/png": "[encoded data removed]",
      "text/plain": [
       "<Figure size 500x500 with 1 Axes>"
      ]
     },
     "metadata": {},
     "output_type": "display_data"
    }
   ],
   "source": [
    "import matplotlib.pyplot as plt\n",
    "\n",
    "# complete the code\n",
    "\n",
    "\n",
    "plt.figure(figsize=(5, 5))\n",
    "meshgrid_colors = meshgrid_colors.reshape(grid_x.shape)\n",
    "plt.pcolormesh(grid_x, grid_y, meshgrid_colors, cmap=\"RdBu\", shading=\"auto\")\n",
    "\n",
    "plt.scatter(\n",
    "    X_train[:, 0][y_train == 0],\n",
    "    X_train[:, 1][y_train == 0],\n",
    "    marker=\"s\",\n",
    "    facecolors=\"w\",\n",
    "    edgecolors=\"r\",\n",
    "    label=\"A train\",\n",
    ")\n",
    "plt.scatter(\n",
    "    X_train[:, 0][y_train == 1],\n",
    "    X_train[:, 1][y_train == 1],\n",
    "    marker=\"o\",\n",
    "    facecolors=\"w\",\n",
    "    edgecolors=\"b\",\n",
    "    label=\"B train\",\n",
    ")\n",
    "\n",
    "plt.scatter(\n",
    "    X_test[:, 0][y_test == 0],\n",
    "    X_test[:, 1][y_test == 0],\n",
    "    marker=\"s\",\n",
    "    facecolors=\"r\",\n",
    "    edgecolors=\"r\",\n",
    "    label=\"A test\",\n",
    ")\n",
    "plt.scatter(\n",
    "    X_test[:, 0][y_test == 1],\n",
    "    X_test[:, 1][y_test == 1],\n",
    "    marker=\"o\",\n",
    "    facecolors=\"b\",\n",
    "    edgecolors=\"b\",\n",
    "    label=\"B test\",\n",
    ")\n",
    "\n",
    "plt.legend(bbox_to_anchor=(1.05, 1), loc=\"upper left\", borderaxespad=0.0)\n",
    "plt.title(\"Pegasos Classification\")\n",
    "plt.show()"
   ]
  },
  {
   "cell_type": "code",
   "execution_count": 21,
   "id": "45066e7a",
   "metadata": {},
   "outputs": [],
   "source": [
    "# token + backend\n",
    "from qiskit_ibm_runtime import QiskitRuntimeService\n",
    "from qiskit_ibm_runtime import QiskitRuntimeService, Sampler\n",
    "# token = \"79232e64fa632d6dc52dbcba74585a33ec8593fe06d654771e8e3805d1cfb4f029a8d2b4dc022194164e29c2c16746342a7abc849cac0e6d9b2a726ab4785731\"\n",
    "# service = QiskitRuntimeService(channel = \"ibm_quantum\", token = token)\n",
    "# backend = service.backend('ibm_brisbane')"
   ]
  },
  {
   "cell_type": "code",
   "execution_count": 93,
   "id": "47f150c5",
   "metadata": {},
   "outputs": [
    {
     "name": "stdout",
     "output_type": "stream",
     "text": [
      "Train accuracy: 0.6000\n",
      "Test accuracy: 0.4000\n",
      "bckend = ibm_brisbane srart = 2025-04-29T01:02:17.862Z end = 2025-04-29T01:02:19.382Z elapsed_time = 0:00:01.520000 usage_seconds = 0         estimated_running_time_seconds = None\n"
     ]
    }
   ],
   "source": [
    "from qiskit import transpile, QuantumCircuit\n",
    "# Pegasos to a quantum backend\n",
    "# Feature map and quantum kernel\n",
    "# complete the code\n",
    "\n",
    "\n",
    "# Create a quantum circuit for the kernel\n",
    "num_qubits = 127  # Adjust based on the backend capabilities\n",
    "quantum_kernel_circuit = QuantumCircuit(num_qubits)\n",
    "quantum_kernel_circuit.append(feature_map_compiled, range(num_qubits))\n",
    "# Use QuantumCircuit for FidelityQuantumKernel\n",
    "fidelity_quantum_kernel = FidelityQuantumKernel()\n",
    "fidelity_quantum_kernel._quantum_circuit = quantum_kernel_circuit\n",
    "# Pegasos QSVC model\n",
    "num_steps = 100  # You can tune this\n",
    "C = 1.0\n",
    "model = PegasosQSVC(quantum_kernel=fidelity_quantum_kernel, C=C, num_steps=num_steps)\n",
    "\n",
    "# Fit and evaluate\n",
    "model.fit(x_train, y_train)\n",
    "train_score = model.score(x_train, y_train)\n",
    "test_score = model.score(x_test, y_test)\n",
    "\n",
    "print(f\"Train accuracy: {train_score:.4f}\")\n",
    "print(f\"Test accuracy: {test_score:.4f}\")\n",
    "backend_info()\n",
    "#model train"
   ]
  },
  {
   "cell_type": "code",
   "execution_count": 94,
   "id": "13d7ac50",
   "metadata": {},
   "outputs": [
    {
     "name": "stdout",
     "output_type": "stream",
     "text": [
      "Requirement already satisfied: datetime in /opt/miniconda3/lib/python3.12/site-packages (5.5)\n",
      "Requirement already satisfied: zope.interface in /opt/miniconda3/lib/python3.12/site-packages (from datetime) (7.2)\n",
      "Requirement already satisfied: pytz in /opt/miniconda3/lib/python3.12/site-packages (from datetime) (2025.1)\n",
      "Requirement already satisfied: setuptools in /opt/miniconda3/lib/python3.12/site-packages (from zope.interface->datetime) (69.5.1)\n"
     ]
    }
   ],
   "source": [
    "!pip install datetime"
   ]
  },
  {
   "cell_type": "code",
   "execution_count": 95,
   "id": "49884b99",
   "metadata": {},
   "outputs": [
    {
     "data": {
      "text/plain": [
       "PrimitiveResult([SamplerPubResult(data=DataBin(c=BitArray(<shape=(), num_shots=4096, num_bits=5>)), metadata={'circuit_metadata': {}})], metadata={'execution': {'execution_spans': ExecutionSpans([SliceSpan(<start='2025-01-23 14:45:10', stop='2025-01-23 14:45:29', size=4096>)])}, 'version': 2})"
      ]
     },
     "execution_count": 95,
     "metadata": {},
     "output_type": "execute_result"
    }
   ],
   "source": [
    "# List recent jobs submitted by the runtime service\n",
    "# from qiskit_ibm_runtime import QiskitRuntimeService\n",
    "\n",
    "# service = QiskitRuntimeService(channel = \"ibm_quantum\", token = token)  # Ensure you’ve authenticated\n",
    "# jobs = service.jobs(limit=5, backend_name=\"ibm_brisbane\")  # You can also filter by job status\n",
    "# job.result()"
   ]
  },
  {
   "cell_type": "code",
   "execution_count": 96,
   "id": "13332675",
   "metadata": {},
   "outputs": [],
   "source": [
    "from datetime import datetime"
   ]
  },
  {
   "cell_type": "code",
   "execution_count": 97,
   "id": "5ad82d11",
   "metadata": {},
   "outputs": [],
   "source": [
    "import requests\n",
    "# transfer function to top and call the function to the QSVC\n",
    "# chalenge: create quantum cluster with quantum backend (notebook 6.3)\n",
    "def difference(ended, created):# '2025-04-29T01:02:19.382Z' - '2025-04-29T01:02:17.862Z'\n",
    "    date_end = datetime.strptime(ended, \"%Y-%m-%dT%H:%M:%S.%fZ\")\n",
    "    date_created = datetime.strptime(created, \"%Y-%m-%dT%H:%M:%S.%fZ\")\n",
    "    time = date_end -date_created\n",
    "\n",
    "    return time\n",
    "def backend_info():\n",
    "    token = \"79232e64fa632d6dc52dbcba74585a33ec8593fe06d654771e8e3805d1cfb4f029a8d2b4dc022194164e29c2c16746342a7abc849cac0e6d9b2a726ab4785731\"\n",
    "    response = requests.request(\n",
    "        \"GET\",\n",
    "        \"https://api.quantum-computing.ibm.com/runtime/workloads/me\",\n",
    "        headers={\n",
    "            \"Accept\": \"application/json\",\n",
    "            \"Authorization\": \"Bearer \" + token\n",
    "        },\n",
    "    )\n",
    "    #print(response.json())\n",
    "    json_res = response.json()\n",
    "    json_res['workloads'][0]\n",
    "    backend = json_res['workloads'][0][\"backend\"]\n",
    "    created = json_res['workloads'][0][\"created\"]\n",
    "    ended = json_res['workloads'][0][\"ended\"]\n",
    "    elapsed_time = difference(ended, created) #json_res['workloads'][0][\"usage_time\"]\n",
    "    usage_seconds = json_res['workloads'][0][\"usage_seconds\"]\n",
    "    estimated_running_time_seconds = json_res['workloads'][0][\"estimated_running_time_seconds\"]\n",
    "    print(f'bckend = {backend} srart = {created} end = {ended} elapsed_time = {elapsed_time} usage_seconds = {usage_seconds} \\\n",
    "        estimated_running_time_seconds = {estimated_running_time_seconds}')\n",
    "\n",
    "\n"
   ]
  },
  {
   "cell_type": "code",
   "execution_count": null,
   "id": "89f3f996",
   "metadata": {},
   "outputs": [],
   "source": []
  },
  {
   "cell_type": "markdown",
   "id": "fe09a632",
   "metadata": {},
   "source": [
    "# Homework"
   ]
  },
  {
   "cell_type": "code",
   "execution_count": 98,
   "id": "7ddc86e9",
   "metadata": {},
   "outputs": [
    {
     "name": "stdout",
     "output_type": "stream",
     "text": [
      "Quantum Kernel QSVC Train Accuracy: 0.7333\n",
      "Quantum Kernel QSVC Test Accuracy: 0.8000\n"
     ]
    }
   ],
   "source": [
    "from qiskit_machine_learning.algorithms.classifiers import QSVC\n",
    "# QSVC (Notebook 4)\n",
    "# Initialize QSVC\n",
    "\n",
    "# Train QSVC\n",
    "\n",
    "# Evaluate QSVC\n"
   ]
  },
  {
   "cell_type": "markdown",
   "id": "e224ddfe",
   "metadata": {},
   "source": [
    "- With the current QML methosd how can we aprimorate the performance, get less runtime. (speed up)\n",
    "\n",
    "- Is it worth the process to transform classical data in quantum data?\n",
    "\n",
    "- Is the Quantum model optimal then the traditional Classical model?\n",
    "\n",
    "- The quantum computer suffer from error. So we can investigate quantum error correction. What generates error in quantum computers?"
   ]
  },
  {
   "cell_type": "code",
   "execution_count": null,
   "id": "49200aed",
   "metadata": {},
   "outputs": [],
   "source": [
    "#Final Project: Classical, Hybrid, Quantum"
   ]
  },
  {
   "cell_type": "markdown",
   "id": "d1c86520",
   "metadata": {},
   "source": []
  }
 ],
 "metadata": {
  "celltoolbar": "Tags",
  "kernelspec": {
   "display_name": "Python 3.9.6 64-bit",
   "language": "python",
   "name": "python3"
  },
  "language_info": {
   "codemirror_mode": {
    "name": "ipython",
    "version": 3
   },
   "file_extension": ".py",
   "mimetype": "text/x-python",
   "name": "python",
   "nbconvert_exporter": "python",
   "pygments_lexer": "ipython3",
   "version": "3.9.6"
  },
  "vscode": {
   "interpreter": {
    "hash": "31f2aee4e71d21fbe5cf8b01ff0e069b9275f58929596ceb00d14d90e3e16cd6"
   }
  }
 },
 "nbformat": 4,
 "nbformat_minor": 5
}
