{
 "cells": [
  {
   "cell_type": "markdown",
   "metadata": {},
   "source": [
    "# Quantum Sensing: Intro to Quantum Mechanics\n",
    "### Professor: Jeff Prevost  \n",
    "### Notes: Sthefanie Passo\n",
    "\n",
    "---\n",
    "\n",
    "### 🧪 Physical Foundations of Quantum Mechanics\n",
    "\n",
    "- In the 1600s, Newton believed that everything was made of particles.  \n",
    "- The double-slit experiment later showed that particles like electrons exhibit both wave and particle behaviors—these are **quantum objects**.  \n",
    "- Everything we know behaves fundamentally like a wave that can also exhibit particle-like properties.  \n",
    "- Quantum Mechanics is a **non-relativistic** theory.  \n",
    "- A photon is actually an excitation of the **electromagnetic field**, which becomes visible when interacting with our eyes.\n",
    "\n",
    "---\n",
    "\n",
    "### 🧠 Fundamental Properties of Quantum Systems\n",
    "\n",
    "- **Superposition**: A quantum system can exist in multiple states simultaneously until a measurement is made.  \n",
    "- **Entanglement**: Two or more particles can be correlated so that the state of one instantly affects the other, regardless of distance.  \n",
    "- **Interference**: Quantum probability amplitudes can add constructively or destructively, changing the likelihood of outcomes.  \n",
    "- **Measurement Collapse**: Measuring a quantum system forces it into one of its basis states, destroying the superposition.  \n",
    "- **No-Cloning Theorem**: You cannot create an exact copy of an unknown quantum state.  \n",
    "- **Quantum Tunneling**: Particles can pass through energy barriers that would be impossible to cross in classical physics.  \n",
    "- **Unitary Evolution**: A closed quantum system evolves over time via reversible unitary operations, governed by the Schrödinger equation.  \n",
    "- **Quantum Decoherence**: Interaction with the environment causes loss of quantum behavior, effectively making the system classical.\n",
    "\n",
    "---\n",
    "\n",
    "### 🧪 Double-Slit Experiment (Wave–Particle Duality)\n",
    "\n",
    "- Demonstrates fundamental quantum properties like **interference** and **duality**.  \n",
    "- When we do **not observe** which slit a particle goes through, we see an interference pattern—evidence of wave-like behavior.  \n",
    "- When we **observe** the slits, the interference pattern disappears, and we only see single-slit behavior—this is due to **decoherence**.  \n",
    "- Measuring the particle’s path collapses the wavefunction, causing the system to act classically.  \n",
    "- To observe the particle, we emit photons (or another probe) which interacts with it—this interaction leads to **decoherence**.  \n",
    "\n",
    "---\n",
    "\n",
    "### 🧮 Quantum Measurement & Operators\n",
    "\n",
    "- The **Hamiltonian operator** gives the **expected value** (average outcome) of a measurement, not the actual result of a single shot.  \n",
    "- Measurements in quantum circuits are based on **observables**, defined by Hermitian operators.  \n",
    "- We aim to become not just **Quantum Computer Scientists** who understand some physics, but **Quantum Engineers**—experts in using quantum hardware and software under the quantum paradigm.\n",
    "\n",
    "---\n",
    "\n",
    "![Double-Slit Electron Experiment](https://scientificgamer.com/blog/wp-content/uploads/2012/09/electrons.jpg)"
   ]
  },
  {
   "cell_type": "markdown",
   "metadata": {},
   "source": [
    "### 🌀 Bloch Sphere & Quantum States\n",
    "\n",
    "---\n",
    "\n",
    "### 🧭 Quantum States in the Bloch Sphere\n",
    "\n",
    "- A **qubit** is represented as a **vector in Euclidean space**, often visualized on the **Bloch Sphere**.  \n",
    "- Quantum states are measured in **high and low energy levels**, analogous to 0 and 1 (as in transistor logic).  \n",
    "- More than two levels (qutrits, ququads) introduce complexity, so most quantum systems stick to **two-state (qubit)** architectures.  \n",
    "- A **qubit** is not a single particle but can be a **collective state of many particles**, such as electrons or photons.\n",
    "\n",
    "---\n",
    "\n",
    "### 🧊 Superconducting Qubits\n",
    "\n",
    "- Superconducting qubits operate using **fermionic electrons** and **bosonic photons**.  \n",
    "- Electrons, being fermions, obey the **Pauli exclusion principle**—no two electrons can occupy the same quantum state.  \n",
    "- However, when cooled near absolute zero, electrons can form **Cooper pairs** (bosonic behavior), enabling them to occupy the same energy level.  \n",
    "- This **bosonic pairing** underlies superconductivity and is fundamental to **superconducting qubit technology**.\n",
    "\n",
    "---\n",
    "\n",
    "### 🔄 Qubit Operations & Transmon Physics\n",
    "\n",
    "- **Quantum operators** rotate the qubit’s state on the Bloch sphere using **unitary transformations**.  \n",
    "- You can also **excite qubits** using specific **energy levels or microwave frequencies**.  \n",
    "- In **transmon qubits**, energy levels like |G₀⟩, |G₁⟩, |G₂⟩ form an **anharmonic oscillator**.  \n",
    "- The transition from G₀ to G₁ corresponds to a **half-wave excitation**—each higher level has a slightly different energy gap (anharmonicity), allowing controlled transitions.\n",
    "\n",
    "---\n",
    "\n",
    "![Energy States in Qubits](https://phys.libretexts.org/@api/deki/files/9864/CNX_UPhysics_40_05_states.jpg?revision=1)"
   ]
  },
  {
   "cell_type": "markdown",
   "metadata": {},
   "source": [
    "### Schrodingers Cat\n",
    "- Takeway from quantum: enfatically NO, the actual result itself is 100% random.\n",
    "- The way that we can try to predict is the superposition and sum of all states. What is the probability? \n",
    "\n",
    "![](https://dpotoyan.github.io/Chem324/_images/SE-image.png)\n",
    "\n",
    "![](https://datavizblog.com/wp-content/uploads/2014/02/schrodingers-cat.jpg)\n"
   ]
  },
  {
   "cell_type": "markdown",
   "metadata": {},
   "source": []
  },
  {
   "cell_type": "markdown",
   "metadata": {},
   "source": []
  }
 ],
 "metadata": {
  "kernelspec": {
   "display_name": "Python 3.11.2",
   "language": "python",
   "name": "python3"
  },
  "language_info": {
   "codemirror_mode": {
    "name": "ipython",
    "version": 3
   },
   "file_extension": ".py",
   "mimetype": "text/x-python",
   "name": "python",
   "nbconvert_exporter": "python",
   "pygments_lexer": "ipython3",
   "version": "3.11.2"
  },
  "orig_nbformat": 4,
  "vscode": {
   "interpreter": {
    "hash": "e29f0c0a81ae574b1baa83ec23ce56772e36a1f26c4f34350f81be1f16a839e4"
   }
  }
 },
 "nbformat": 4,
 "nbformat_minor": 2
}
