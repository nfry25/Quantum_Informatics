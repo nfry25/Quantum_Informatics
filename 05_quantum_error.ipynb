{
 "cells": [
  {
   "cell_type": "markdown",
   "metadata": {},
   "source": [
    "# 📚 Study Plan: June 17th – June 26th\n",
    "\n",
    "Hi everyone! 👋\n",
    "\n",
    "From **June 17th to June 28th**, our Quantum Informatics class will be **remote and asynchronous** 🖥️ due to my attendance at two international conferences, where I’ll be representing the CLEAR Lab. 🌍🎓\n",
    "\n",
    "## 📝 What You Should Do:\n",
    "\n",
    "During this period, your task is to:\n",
    "\n",
    "1. **Watch the following tutorials**\n",
    "2. **Take notes**\n",
    "3. **Upload your notes** as a `.pdf` or in your **Jupyter Notebook** on your GitHub repo 📂\n",
    "\n",
    "---\n",
    "\n",
    "## 🎥 Tutorials to Watch:\n",
    "\n",
    "### 🔍 Grover’s Algorithm\n",
    "- 📘 IBM Tutorial:  \n",
    "  👉 https://learning.quantum.ibm.com/tutorial/grovers-algorithm\n",
    "\n",
    "### 🔧 Solving MaxCut with QAOA\n",
    "- 📺 YouTube Lecture:  \n",
    "  👉 https://www.youtube.com/watch?v=P3s7TIMIvZ0  \n",
    "- 📘 Supplementary Material:  \n",
    "  👉 https://learning.quantum.ibm.com/tutorial/quantum-approximate-optimization-algorithm\n",
    "\n",
    "### 🌫️ Introduction to Quantum Noise\n",
    "- 🎓 Part 1 – Qiskit Global Summer School 2023:  \n",
    "  👉 https://www.youtube.com/watch?v=3Ka11boCm1M&t=2824s  \n",
    "- 🎓 Part 2 – Qiskit Global Summer School 2023:  \n",
    "  👉 https://www.youtube.com/watch?v=gsKOx40gCUU&list=PLOFEBzvs-VvqoeIypXYLLf0PY-WOQMLR3&index=11\n",
    "\n",
    "---\n",
    "\n",
    "## 💡 Tip for Success\n",
    "\n",
    "Always try to **code the examples** in Jupyter Notebook as you watch the videos. This will help you really understand and remember the content better! ✅🧠\n",
    "\n",
    "---\n",
    "\n",
    "## 🎯 Final Project\n",
    "\n",
    "Details and instructions for your final project will be available in the file:  \n",
    "**`final_project\\FINAL_PROJECT.ipynb`** inside your GitHub repo.\n",
    "\n",
    "---\n",
    "\n",
    "Good luck and happy coding! 💻⚛️  \n",
    "Let me know if you have any questions via email or Discord. I’ll be checking messages between sessions."
   ]
  },
  {
   "cell_type": "code",
   "execution_count": 1,
   "metadata": {},
   "outputs": [
    {
     "data": {
      "text/plain": [
       "2"
      ]
     },
     "execution_count": 1,
     "metadata": {},
     "output_type": "execute_result"
    }
   ],
   "source": [
    "a=1\n",
    "b=1\n",
    "a+b\n"
   ]
  }
 ],
 "metadata": {
  "kernelspec": {
   "display_name": "Python 3.9.6 64-bit",
   "language": "python",
   "name": "python3"
  },
  "language_info": {
   "codemirror_mode": {
    "name": "ipython",
    "version": 3
   },
   "file_extension": ".py",
   "mimetype": "text/x-python",
   "name": "python",
   "nbconvert_exporter": "python",
   "pygments_lexer": "ipython3",
   "version": "3.9.6"
  },
  "orig_nbformat": 4,
  "vscode": {
   "interpreter": {
    "hash": "31f2aee4e71d21fbe5cf8b01ff0e069b9275f58929596ceb00d14d90e3e16cd6"
   }
  }
 },
 "nbformat": 4,
 "nbformat_minor": 2
}
